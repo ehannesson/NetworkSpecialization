{
 "cells": [
  {
   "cell_type": "code",
   "execution_count": 1,
   "metadata": {},
   "outputs": [],
   "source": [
    "from load_txt import loadtxt\n",
    "from cep import *\n",
    "import operator\n",
    "import time\n",
    "import networkx as nx\n",
    "import numpy as np\n",
    "import matplotlib.pyplot as plt\n",
    "\n",
    "import os\n",
    "os.chdir('../tests')\n",
    "import ep_test\n",
    "os.chdir('../core')"
   ]
  },
  {
   "cell_type": "code",
   "execution_count": 2,
   "metadata": {},
   "outputs": [],
   "source": [
    "%load_ext Cython"
   ]
  },
  {
   "cell_type": "code",
   "execution_count": 3,
   "metadata": {},
   "outputs": [],
   "source": [
    "def toColorList(ep):\n",
    "    coloring = list()\n",
    "    for color in ep.keys():\n",
    "        for node in ep[color]:\n",
    "            coloring.append((node, color))\n",
    "    \n",
    "    coloring.sort()\n",
    "    \n",
    "    return [_[1] for _ in coloring]"
   ]
  },
  {
   "cell_type": "code",
   "execution_count": 4,
   "metadata": {},
   "outputs": [
    {
     "data": {
      "text/plain": [
       "1.5605"
      ]
     },
     "execution_count": 4,
     "metadata": {},
     "output_type": "execute_result"
    }
   ],
   "source": [
    "n = 10000\n",
    "radius = 0.01\n",
    "\n",
    "G = nx.random_geometric_graph(n, radius)\n",
    "\n",
    "colors = toColorList(equitablePartition(*initialize(G)))\n",
    "G.number_of_edges()/n\n",
    "\n",
    "# nx.draw_networkx(G, node_color=colors)"
   ]
  },
  {
   "cell_type": "code",
   "execution_count": 5,
   "metadata": {},
   "outputs": [],
   "source": [
    "# avg_t1, avg_t2 = 0, 0\n",
    "# iters = 1\n",
    "\n",
    "# for i in range(iters):\n",
    "#     res, times = ep_test.random_geometric_check(n, radius, print_res=False)\n",
    "#     avg_t1 += times[0]\n",
    "#     avg_t2 += times[1]\n",
    "    \n",
    "#     if not res:\n",
    "#         print(\"Failure -_-\")\n",
    "\n",
    "# print(f'{(avg_t1/iters, avg_t2/iters)}')"
   ]
  },
  {
   "cell_type": "code",
   "execution_count": null,
   "metadata": {},
   "outputs": [],
   "source": []
  },
  {
   "cell_type": "code",
   "execution_count": 6,
   "metadata": {},
   "outputs": [],
   "source": [
    "def ep_check(A, colors):\n",
    "    \"\"\"Function that makes sure a coloring is equitable\"\"\"\n",
    "    _colors = list(colors.values())\n",
    "\n",
    "    for c1 in _colors:\n",
    "        for c2 in _colors:\n",
    "            x = np.sum(A[c1][:, c2], axis=1)\n",
    "            if not (x==x[0]).all():\n",
    "                return False\n",
    "\n",
    "    return True"
   ]
  },
  {
   "cell_type": "code",
   "execution_count": 7,
   "metadata": {},
   "outputs": [],
   "source": [
    "%%cython\n",
    "\n",
    "def ep_check_cython(int[:, :] A, int[:, :] colors, int[:] color_inds):\n",
    "\n",
    "    cdef int n = color_inds.shape[0]\n",
    "    cdef int[:] class1, class2\n",
    "    cdef int temp_sum0, temp_sum, a, b\n",
    "    \n",
    "    for cind1 in range(n):\n",
    "        class1 = colors[cind1, :]\n",
    "        \n",
    "        for cind2 in range(n):\n",
    "            class2 = colors[cind2, :]\n",
    "        \n",
    "            for c1 in range(color_inds[cind1]):\n",
    "                temp_sum = 0\n",
    "                a = class1[c1]\n",
    "                for c2 in range(color_inds[cind2]):\n",
    "                    b = class2[c2]\n",
    "                    temp_sum += A[a, b]\n",
    "\n",
    "                if c1 == 0:\n",
    "                    temp_sum0 = temp_sum\n",
    "                else:\n",
    "                    if temp_sum != temp_sum0:\n",
    "                        return False\n",
    "    return True"
   ]
  },
  {
   "cell_type": "code",
   "execution_count": 37,
   "metadata": {},
   "outputs": [
    {
     "data": {
      "text/plain": [
       "3.5"
      ]
     },
     "execution_count": 37,
     "metadata": {},
     "output_type": "execute_result"
    }
   ],
   "source": [
    "n = 10\n",
    "radius = 0.75\n",
    "\n",
    "G = nx.random_geometric_graph(n, radius)\n",
    "color_dict = equitablePartition(*initialize(G))\n",
    "\n",
    "color_inds = np.array([len(x) for x in color_dict.values()]).astype(np.int32)\n",
    "A = nx.to_numpy_array(G).astype(np.int32).T\n",
    "colors = np.zeros((len(color_inds), np.max(color_inds)), dtype=np.int32)\n",
    "\n",
    "for key in color_dict.keys():\n",
    "    colors[key, :color_inds[key]] = color_dict[key]\n",
    "    \n",
    "G.number_of_edges()/n"
   ]
  },
  {
   "cell_type": "code",
   "execution_count": 41,
   "metadata": {},
   "outputs": [
    {
     "name": "stdout",
     "output_type": "stream",
     "text": [
      "16.7 µs ± 503 ns per loop (mean ± std. dev. of 7 runs, 100000 loops each)\n"
     ]
    }
   ],
   "source": [
    "%timeit ep_check_cython(A, colors, color_inds)"
   ]
  },
  {
   "cell_type": "code",
   "execution_count": 39,
   "metadata": {},
   "outputs": [
    {
     "name": "stdout",
     "output_type": "stream",
     "text": [
      "489 µs ± 3.76 µs per loop (mean ± std. dev. of 7 runs, 1000 loops each)\n"
     ]
    }
   ],
   "source": [
    "%timeit ep_check(A, color_dict)"
   ]
  },
  {
   "cell_type": "code",
   "execution_count": 40,
   "metadata": {},
   "outputs": [
    {
     "data": {
      "text/plain": [
       "\u001b[0;31mSignature:\u001b[0m \u001b[0mnx\u001b[0m\u001b[0;34m.\u001b[0m\u001b[0merdos_renyi_graph\u001b[0m\u001b[0;34m(\u001b[0m\u001b[0mn\u001b[0m\u001b[0;34m,\u001b[0m \u001b[0mp\u001b[0m\u001b[0;34m,\u001b[0m \u001b[0mseed\u001b[0m\u001b[0;34m=\u001b[0m\u001b[0;32mNone\u001b[0m\u001b[0;34m,\u001b[0m \u001b[0mdirected\u001b[0m\u001b[0;34m=\u001b[0m\u001b[0;32mFalse\u001b[0m\u001b[0;34m)\u001b[0m\u001b[0;34m\u001b[0m\u001b[0;34m\u001b[0m\u001b[0m\n",
       "\u001b[0;31mDocstring:\u001b[0m\n",
       "Returns a $G_{n,p}$ random graph, also known as an Erdős-Rényi graph\n",
       "or a binomial graph.\n",
       "\n",
       "The $G_{n,p}$ model chooses each of the possible edges with probability $p$.\n",
       "\n",
       "The functions :func:`binomial_graph` and :func:`erdos_renyi_graph` are\n",
       "aliases of this function.\n",
       "\n",
       "Parameters\n",
       "----------\n",
       "n : int\n",
       "    The number of nodes.\n",
       "p : float\n",
       "    Probability for edge creation.\n",
       "seed : integer, random_state, or None (default)\n",
       "    Indicator of random number generation state.\n",
       "    See :ref:`Randomness<randomness>`.\n",
       "directed : bool, optional (default=False)\n",
       "    If True, this function returns a directed graph.\n",
       "\n",
       "See Also\n",
       "--------\n",
       "fast_gnp_random_graph\n",
       "\n",
       "Notes\n",
       "-----\n",
       "This algorithm [2]_ runs in $O(n^2)$ time.  For sparse graphs (that is, for\n",
       "small values of $p$), :func:`fast_gnp_random_graph` is a faster algorithm.\n",
       "\n",
       "References\n",
       "----------\n",
       ".. [1] P. Erdős and A. Rényi, On Random Graphs, Publ. Math. 6, 290 (1959).\n",
       ".. [2] E. N. Gilbert, Random Graphs, Ann. Math. Stat., 30, 1141 (1959).\n",
       "\u001b[0;31mFile:\u001b[0m      ~/anaconda3/lib/python3.7/site-packages/networkx/generators/random_graphs.py\n",
       "\u001b[0;31mType:\u001b[0m      function\n"
      ]
     },
     "metadata": {},
     "output_type": "display_data"
    }
   ],
   "source": [
    "nx.erdos_renyi_graph?"
   ]
  },
  {
   "cell_type": "code",
   "execution_count": null,
   "metadata": {},
   "outputs": [],
   "source": []
  }
 ],
 "metadata": {
  "kernelspec": {
   "display_name": "Python 3",
   "language": "python",
   "name": "python3"
  },
  "language_info": {
   "codemirror_mode": {
    "name": "ipython",
    "version": 3
   },
   "file_extension": ".py",
   "mimetype": "text/x-python",
   "name": "python",
   "nbconvert_exporter": "python",
   "pygments_lexer": "ipython3",
   "version": "3.7.6"
  }
 },
 "nbformat": 4,
 "nbformat_minor": 4
}
